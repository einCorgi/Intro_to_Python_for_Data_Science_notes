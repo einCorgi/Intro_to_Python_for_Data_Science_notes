{
 "cells": [
  {
   "cell_type": "markdown",
   "source": [
    "# <span style=\"color:red;\"> Las 6 Fases del Análisis de Datos.</span>\n",
    "## <span style=\"color:yellow;\">ASK (Preguntar)</span>\n",
    "Es imposible resolver un problema si no sabes de que se trata. Se debe tomar en cuenta:\n",
    "* Define el problema que tratas de resolver.\n",
    "* Asegurate de entender completamente las expectativas de los interesados.\n",
    "* Concentrate en el problema real y evita las distracciones.\n",
    "* Colabora con los intersados y manten una linea de comunicación abierta.\n",
    "* Da un paso atrás y observa toda la situación en contexto.\n",
    "### --> Preguntas que debes hacerte en este paso:\n",
    "* ¿Que problemas dicen tener mis interesados?\n",
    "* Ahora que identifiqué los problemas ¿Como puedo ayudar a los interesados?\n",
    "## <span style=\"color:yellow;\">PREPARE (Preparar)</span>\n",
    "Decidiras que datos necesitas recopilar para responder a sus preguntas y como organizarlos para que sean útiles. Puedes utilizar tu tarea empresarial para decidir:\n",
    "* Que métricas medir\n",
    "* Localizar datos en tu base de datos\n",
    "* Crear medidas de seguridad para proteger esos datos\n",
    "### --> Preguntas que debes hacerte en este paso:\n",
    "* ¿Que necesito para descubrir como resolver este problema?\n",
    "* ¿Que investigación debo hacer?\n",
    "## <span style=\"color:yellow;\">PROCESS (Procesar)</span>\n",
    "Los datos limpios son los mejores datos y deberas limpiar los datos para deshacerte de posibles errores, inexactitudes o incoherencias. Eso puede impplicar lo siguiente:\n",
    "* Usar funciones de las hojas de cálculo para encontrar datos ingresados incorrectamente\n",
    "* Usar funciones SQL para buscar espacios adicionales\n",
    "* Eliminar entradas repetidas\n",
    "* Comprobar tanto como sea posible el sesgo en los datos\n",
    "### --> Preguntas que debes hacerte en este paso:\n",
    "* ¿Que errores o inexactitudes de datos pueden interponerse en mi camino para obtener la mejor respuesta posible al problema que trato de resolver?\n",
    "* ¿Como puedo limpiar mis datos para que la información que tengo sea mas coherente?\n",
    "## <span style=\"color:yellow;\">ANALYZE (Analizar)</span>\n",
    "Deberias pensar analíticamente sobre tus datos. En esta etapa, puedes ordenar y formatear tus datos para que sea mas facil hacer lo siguiente:\n",
    "* Realizar cálculos\n",
    "* Combinar datos de varias fuentes\n",
    "* Crear tablas con los resultados\n",
    "### --> Preguntas que debes hacerte en este paso:\n",
    "* ¿Que historia me cuentan los datos?\n",
    "* ¿Como me ayudarán los datos a resolver este problema?\n",
    "* ¿Quien necesita el producto o servicio de mi empresa?, ¿Que tipo de persona es mas probable que lo use?\n",
    "## <span style=\"color:yellow;\">SHARE (Compartir)</span>\n",
    "Todos comparten sus resultados diferentemente, así que asegúrate de resumir los resultados con imágenes mas claras y atractivas de tu análisis usando herramientas de visualización de datos como los gráficos o los páneles. Esta es tu oportunidad de mostrarles a los interesados que resolviste su problema y como lo hiciste. Sin duda, compartir ayudará a tu equipo a hacer lo siguiente:\n",
    "* Tomar mejores decisiones\n",
    "* Tomar decisiones mas informadas\n",
    "* Conseguir resultados mas sólidos\n",
    "* Comunicar con éxito los hallazgos\n",
    "### --> Preguntas que debes hacerte en este paso:\n",
    "* ¿Como puedo hacer que lo que presento a los interesados sea atractivo y fácil de entender?\n",
    "* ¿Que me ayudaría a entender esto si yo fuera el oyente?\n",
    "## <span style=\"color:yellow;\">ACT (Actuar)</span>\n",
    "Ahora es el momento de actuar sobre los datos. Tomarás todo lo que has aprendido del análisis de datos y lo pondras en práctica. Esto podría significar brinddarles a los interesados recomendaciones basadas en los hallazgos para que se puedan tomar decisiones basadas en datos.\n",
    "### --> Preguntas que debes hacerte en este paso:\n",
    "* ¿Como puedo utilizar los comentarios que recibí durante la fase <strong>compartir</strong> para satisfacer realmente las necesidades y expectativas de los interesados?\n",
    "--------------------------------------------------------------------------------------------------------------------------------\n",
    "Estos seis pasos pueden ayudar a dividir el proceso de análisis de datos en partes mas pequeñas y manejables, lo que se denomina <strong>pensamiento estructurado</strong>. Este proceso involucra cuantro actividades básicas:\n",
    "* Reconocer el problema o la situación actual\n",
    "* Organizar la información disponible\n",
    "* Revelar déficits y oportunidades\n",
    "* Identificar tus opciones"
   ],
   "metadata": {
    "collapsed": false
   }
  },
  {
   "cell_type": "markdown",
   "source": [
    "# <span style=\"color:red;\">Tipos de Problemas en el Análisis de Datos</span>\n",
    "### <span style=\"color:yellow;\">MAKE PREDICTIONS (Hacer predicciones)</span>\n",
    "* Usar datos para tomar decisiones informadas sobre como pueden ser las cosas en el futuro\n",
    "### <span style=\"color:yellow;\">CATEGORIZING THINGS (Categorizar Elementos)</span>\n",
    "* Agrupar datos segun caracteristicas comunes\n",
    "### <span style=\"color:yellow;\">SPOTTING SOMETHING UNUSUAL (Detectar Algo Inusual)</span>\n",
    "* Identificar datos que difieren de la norma\n",
    "### <span style=\"color:yellow;\">IDENTIFYING THEMES (Identificar Temas)</span>\n",
    "* Reconocer conceptos mas amplios y tendencias de los datos categorizados\n",
    "### <span style=\"color:yellow;\">DISCOVERING CONNECTIONS (Descubrir Conexiones)</span>\n",
    "* Identificar desafios similares en entidades diferentes y usar datos e información para encontrar soluciones comunes\n",
    "### <span style=\"color:yellow;\">FINDING PATTERNS (Buscar Patrones)</span>\n",
    "* Utilizar datos históricos sobre que sucedio en el pasado para comprender que tan probable es que vuelva a suceder"
   ],
   "metadata": {
    "collapsed": false
   }
  },
  {
   "cell_type": "markdown",
   "source": [
    "# <span style=\"color:red;\">SMART METHODOLOGIES</span>\n",
    "Las preguntas altamente efectivas son preguntas SMART\n",
    "--> <strong>S</strong>pecific (especifica)\n",
    "* ¿Es especifica la pregunta?\n",
    "* ¿Aborda el problema?\n",
    "* ¿Tiene contexto?\n",
    "* ¿Descubrirá mucha de la información que necesitas?\n",
    "\n",
    "--> <strong>M</strong>easurable (medible)\n",
    "* ¿La pregunta te dará respuestas que puedas medir?\n",
    "\n",
    "--> <strong>A</strong>ction-Oriented (orientada a la acción)\n",
    "* ¿Las respuestas proporcionarán información que te ayude a diseñar algún tipo de plan de acción?\n",
    "\n",
    "--> <strong>R</strong>elevant (relevante)\n",
    "* ¿La pregunta es sobre el problema particular que tratas de resolver?\n",
    "\n",
    "--> <strong>T</strong>ime-Bound (con plazos determinados)\n",
    "* ¿Son las respuestas relevantes para el momento específico que se estudia?\n",
    "\n",
    "Las preguntas realizadas deben ser <strong>ABIERTAS</strong>. Esta es la mejor manera de obtener respuestas que te ayudarán a calificar o descalificar con precisión las posibles soluciones al problema específico.\n",
    "\n",
    "### <span style=\"color:yellow;\">COSAS QUE DEBES EVITAR AL HACER PREGUNTAS</span>\n",
    "* <strong>Preguntas Sugestivas:</strong> preguntas que solo tienen una respuesta en particular\n",
    "* <strong>Preguntas Cerradas:</strong> preguntas que piden una respuesta breve o de una sola palabra\n",
    "* <strong>Preguntas Imprecisas:</strong> preguntas que no son específicas o que no ofrecen contexto"
   ],
   "metadata": {
    "collapsed": false
   }
  },
  {
   "cell_type": "markdown",
   "source": [
    "# Intro to Data Science: Basic Descriptive Statistics\n",
    "In data science, you'll often use statistics to describe and summarize your data, Here, we begin by introducing several such <strong>descriptive statistics</strong>, including:\n",
    "* <strong>minimum</strong> --> the smallest value in a collection of values\n",
    "* <strong>maximum</strong> --> the largest value in a collection of values\n",
    "* <strong>range</strong> --> the range of values from the minimum to the maximum\n",
    "* <strong>count</strong> --> the number of values in a collection\n",
    "* <strong>sum</strong> --> the total of values in a collection"
   ],
   "metadata": {
    "collapsed": false
   }
  },
  {
   "cell_type": "markdown",
   "source": [
    "### Determining the Minimum of Three Values\n",
    "First, let's show how to determine the minimum of three values manually. The following script prompts for and inputs three values, uses if statements to determine the minimum values, then displays it."
   ],
   "metadata": {
    "collapsed": false
   }
  },
  {
   "cell_type": "code",
   "execution_count": null,
   "outputs": [],
   "source": [
    "# fig02_02.py\n",
    "\"\"\"Find the minimum of three values.\"\"\"\n",
    "\n",
    "number1 = int(input(\"Enter the first integer: \"))\n",
    "number2 = int(input(\"Enter the second integer: \"))\n",
    "number3 = int(input(\"Enter the third integer: \"))\n",
    "\n",
    "minimum = number1\n",
    "\n",
    "if number2 < minimum:\n",
    "    minimum = number2\n",
    "\n",
    "if number3 < minimum:\n",
    "    minimum = number3\n",
    "\n",
    "print(f\"Minimum values is {minimum}\")\n"
   ],
   "metadata": {
    "collapsed": false
   }
  },
  {
   "cell_type": "markdown",
   "source": [
    "### Determining the Minimum and Maximum with Built-In Functions min and max\n",
    "Python has many built-in functions for performing common tasks. Built-in functions <strong>min</strong> and <strong>max</strong> calculate the minimum and maximum, respectively, of a collection of values:"
   ],
   "metadata": {
    "collapsed": false
   }
  },
  {
   "cell_type": "code",
   "execution_count": 5,
   "outputs": [
    {
     "name": "stdout",
     "output_type": "stream",
     "text": [
      "12\n",
      "36\n"
     ]
    }
   ],
   "source": [
    "print(min(36, 27, 12))\n",
    "print(max(36, 27, 12))"
   ],
   "metadata": {
    "collapsed": false
   }
  },
  {
   "cell_type": "markdown",
   "source": [
    "### Determining the range of a collection values\n",
    "The range of values is simply the minimum through the maximum value. in this case, the range is 12 through 36. Much data science is devoted to getting to know your data. Descriptive statistics is a crucial part of that, but you also have to understand how to interpret the statistics. For example. If you have 100 numbers with a range of 12 through 36, those numbers could be distributed evenly over that range. At the opposite extreme, you could have cumplimg with 99 values of 12 and one 36, or one 12 and 99 values of 36."
   ],
   "metadata": {
    "collapsed": false
   }
  },
  {
   "cell_type": "code",
   "execution_count": 1,
   "outputs": [
    {
     "name": "stdout",
     "output_type": "stream",
     "text": [
      "Range:  47 - 95\n"
     ]
    }
   ],
   "source": [
    "print(\"Range: \", min(47, 95, 88, 73, 88, 84), \"-\", max(47, 95, 88, 73, 88, 84))"
   ],
   "metadata": {
    "collapsed": false
   }
  },
  {
   "cell_type": "markdown",
   "source": [
    "# Measures of Central Tendency-Mean, Median and Mode\n",
    "Here we continue our discusion of uising statistics to analyze data with several additional descriptive statistics, including:\n",
    "* mean --> the average value in a set of values\n",
    "* median --> the middle value when all the value when all the values are arranged in sorted order.\n",
    "* mode --> the most frequently occurring value\n",
    "These are <strong>measures of central tendency</strong> (each is a way if producing a single value that represents a \"central\" value in a set of values <strong>i/e</strong> a value which is in some sense typical of others.)"
   ],
   "metadata": {
    "collapsed": false
   }
  },
  {
   "cell_type": "code",
   "execution_count": null,
   "outputs": [],
   "source": [],
   "metadata": {
    "collapsed": false
   }
  }
 ],
 "metadata": {
  "kernelspec": {
   "display_name": "Python 3",
   "language": "python",
   "name": "python3"
  },
  "language_info": {
   "codemirror_mode": {
    "name": "ipython",
    "version": 2
   },
   "file_extension": ".py",
   "mimetype": "text/x-python",
   "name": "python",
   "nbconvert_exporter": "python",
   "pygments_lexer": "ipython2",
   "version": "2.7.6"
  }
 },
 "nbformat": 4,
 "nbformat_minor": 0
}
